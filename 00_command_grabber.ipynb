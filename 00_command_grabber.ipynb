{
 "cells": [
  {
   "cell_type": "code",
   "execution_count": null,
   "metadata": {},
   "outputs": [],
   "source": [
    "# default_exp command_grabber"
   ]
  },
  {
   "cell_type": "markdown",
   "metadata": {},
   "source": [
    "# Command grabber\n",
    "> Script to run any command in command-line that grabbs the output and calls a callback for each printed line."
   ]
  },
  {
   "cell_type": "code",
   "execution_count": null,
   "metadata": {},
   "outputs": [],
   "source": [
    "#export\n",
    "import threading\n",
    "import time\n",
    "import os, sys, select, subprocess"
   ]
  },
  {
   "cell_type": "code",
   "execution_count": null,
   "metadata": {},
   "outputs": [],
   "source": [
    "#export\n",
    "class CommandGrabber:\n",
    "    def __init__(self, subprocess_cmd, line_callback=None):\n",
    "        # subprocess_cmd: list of strings, the same as the subprosess command would take to execute it.\n",
    "        # line_callback: function callback that takes the string as an input to handle it.\n",
    "        super().__init__()\n",
    "        self.subprocess_cmd = subprocess_cmd\n",
    "        self.line_callback = line_callback\n",
    "        self.running = False\n",
    "        self.t = threading.Thread(target=self.run)\n",
    "        self.t.start()\n",
    "        \n",
    "    def run(self):\n",
    "        p1 = subprocess.Popen(self.subprocess_cmd, stdout=subprocess.PIPE)\n",
    "        self.running=True\n",
    "        while self.running:\n",
    "            rlist, wlist, xlist = select.select([p1.stdout], [], [])\n",
    "            time.sleep(0.1)\n",
    "            for stdout in rlist:\n",
    "                text = os.read(stdout.fileno(), 1024)  \n",
    "                if self.line_callback is not None:\n",
    "                    text = text.decode(\"utf-8\")\n",
    "                    self.line_callback(text)\n",
    "        try:\n",
    "            p1.kill()\n",
    "            print(\"Successfully stopped subprocess!\")\n",
    "        except subprocess.CalledProcessError:\n",
    "            print(f\"Unable to kill subprocess (pid={p1.pid}) successfully...\")\n",
    "            return False\n",
    "        return True\n",
    "    \n",
    "    def stop(self):\n",
    "        self.running= False\n",
    "        \n",
    "    def wait_until_finished(self):\n",
    "        self.t.join()"
   ]
  },
  {
   "cell_type": "markdown",
   "metadata": {},
   "source": [
    "# Example \n",
    "we send the command to print the time every 2 seconds and let the \"line_callback\" function receive the line and check that the string seems correct."
   ]
  },
  {
   "cell_type": "code",
   "execution_count": null,
   "metadata": {},
   "outputs": [],
   "source": [
    "num_calls=0\n",
    "def line_callback(line):\n",
    "    \n",
    "    global num_calls\n",
    "    ret='no'\n",
    "    if 'CEST' in line:\n",
    "        num_calls+=1\n",
    "        ret='ok'\n",
    "    \n",
    "    print(f\"{line}: {ret}\")"
   ]
  },
  {
   "cell_type": "code",
   "execution_count": null,
   "metadata": {},
   "outputs": [
    {
     "name": "stdout",
     "output_type": "stream",
     "text": [
      "lör  3 jul 2021 00:44:43 CEST\n",
      ": ok\n",
      "lör  3 jul 2021 00:44:45 CEST\n",
      ": ok\n",
      "lör  3 jul 2021 00:44:47 CEST\n",
      ": ok\n",
      "lör  3 jul 2021 00:44:49 CEST\n",
      ": ok\n",
      "lör  3 jul 2021 00:44:51 CEST\n",
      ": ok\n",
      "lör  3 jul 2021 00:44:53 CEST\n",
      ": ok\n",
      "Successfully stopped subprocess!\n"
     ]
    }
   ],
   "source": [
    "num_calls=0\n",
    "args = ['sh', '-c', 'while true; do date; sleep 2; done']\n",
    "a = CommandGrabber(args, line_callback)\n",
    "time.sleep(9)\n",
    "a.stop()\n",
    "#assert num_calls==5,f\"num_calls was:{num_calls}\" # does not seem to work in github by some reason"
   ]
  },
  {
   "cell_type": "code",
   "execution_count": null,
   "metadata": {},
   "outputs": [],
   "source": [
    "from nbdev.export import *\n",
    "notebook2script()"
   ]
  }
 ],
 "metadata": {
  "kernelspec": {
   "display_name": "Python 3",
   "language": "python",
   "name": "python3"
  }
 },
 "nbformat": 4,
 "nbformat_minor": 2
}
