{
 "cells": [
  {
   "cell_type": "code",
   "execution_count": null,
   "metadata": {},
   "outputs": [],
   "source": [
    "# default_exp parser"
   ]
  },
  {
   "cell_type": "code",
   "execution_count": null,
   "metadata": {},
   "outputs": [],
   "source": [
    "#export\n",
    "import re"
   ]
  },
  {
   "cell_type": "markdown",
   "metadata": {},
   "source": [
    "# Parser\n",
    "class to parse out the [tegrastats](https://docs.nvidia.com/jetson/archives/l4t-archived/l4t-3231/index.html#page/Tegra%20Linux%20Driver%20Package%20Development%20Guide/AppendixTegraStats.html) information into a dict\n"
   ]
  },
  {
   "cell_type": "code",
   "execution_count": null,
   "metadata": {},
   "outputs": [],
   "source": [
    "#export\n",
    "class ParseTegrastats:\n",
    "    \"\"\"got most of this code from: https://github.com/ssaraff98/tegrastats_parser/blob/main/parse.py\"\"\"\n",
    "    @staticmethod\n",
    "    def parse_ram(lookup_table, ram):\n",
    "        lookup_table['Used RAM (MB)'] = float(ram[0])\n",
    "        lookup_table['Total RAM (MB)'] = float(ram[1])\n",
    "        lookup_table['Number of Free RAM Blocks'] = float(ram[2])\n",
    "        lookup_table['Size of Free RAM Blocks (MB)'] = float(ram[3])\n",
    "        return lookup_table\n",
    "    \n",
    "    @staticmethod\n",
    "    def parse_swap(lookup_table, swap):\n",
    "        lookup_table['Used SWAP (MB)'] = float(swap[0])\n",
    "        lookup_table['Total SWAP (MB)'] = float(swap[1])\n",
    "        lookup_table['Cached SWAP (MB)'] = float(swap[2])\n",
    "        return lookup_table\n",
    "\n",
    "    @staticmethod\n",
    "    def parse_iram(lookup_table, iram):\n",
    "        lookup_table['Used IRAM (kB)'] = float(iram[0])\n",
    "        lookup_table['Total IRAM (kB)'] = float(iram[1])\n",
    "        lookup_table['Size of IRAM Blocks (kB)'] = float(iram[2])\n",
    "        return lookup_table\n",
    "\n",
    "    @staticmethod\n",
    "    def parse_cpus(lookup_table, cpus):\n",
    "        frequency = re.findall(r'@([0-9]*)', cpus)\n",
    "        lookup_table['CPU Frequency (MHz)'] = float(frequency[0]) if frequency else ''\n",
    "        for i, cpu in enumerate(cpus.split(',')):\n",
    "            lookup_table[f'CPU {i} Load (%)'] = cpu.split('%')[0]\n",
    "        return lookup_table\n",
    "\n",
    "    @staticmethod\n",
    "    def parse_gr3d(lookup_table, gr3d):\n",
    "        lookup_table['Used GR3D (%)'] = float(gr3d[0])\n",
    "        lookup_table['GR3D Frequency (MHz)'] = float(gr3d[1]) if gr3d[1] else ''\n",
    "        return lookup_table\n",
    "\n",
    "    @staticmethod\n",
    "    def parse_emc(lookup_table, emc):\n",
    "        lookup_table['Used EMC (%)'] = float(emc[0])\n",
    "        lookup_table['GR3D Frequency (MHz)'] = float(emc[1])  if emc[1] else ''\n",
    "        return lookup_table\n",
    "\n",
    "    @staticmethod\n",
    "    def parse_temperatures(lookup_table, temperatures):\n",
    "        for label, temperature in temperatures:\n",
    "            lookup_table[f'{label} Temperature (C)'] = float(temperature)\n",
    "        return lookup_table\n",
    "\n",
    "    @staticmethod\n",
    "    def parse_vdds(lookup_table, vdds):\n",
    "        for label, curr_vdd, avg_vdd in vdds:\n",
    "            lookup_table[f'Current {label} Power Consumption (mW)'] = float(curr_vdd)\n",
    "            lookup_table[f'Average {label} Power Consumption (mW)'] = float(avg_vdd)\n",
    "        return lookup_table\n",
    "\n",
    "    @staticmethod\n",
    "    def parse_data(line):\n",
    "        lookup_table = {}\n",
    "\n",
    "        ram = re.findall(r'RAM ([0-9]*)\\/([0-9]*)MB \\(lfb ([0-9]*)x([0-9]*)MB\\)', line)\n",
    "        ParseTegrastats.parse_ram(lookup_table, ram[0]) if ram else None\n",
    "\n",
    "        swap = re.findall(r'SWAP ([0-9]*)\\/([0-9]*)MB \\(cached ([0-9]*)MB\\)', line)\n",
    "        ParseTegrastats.parse_swap(lookup_table, swap[0]) if swap else None\n",
    "\n",
    "        iram = re.findall(r'IRAM ([0-9]*)\\/([0-9]*)kB \\(lfb ([0-9]*)kB\\)', line)\n",
    "        ParseTegrastats.parse_iram(lookup_table, iram[0]) if iram else None\n",
    "\n",
    "        cpus = re.findall(r'CPU \\[(.*)\\]', line)\n",
    "        ParseTegrastats.parse_cpus(lookup_table, cpus[0]) if cpus else None\n",
    "\n",
    "        ape = re.findall(r'APE ([0-9]*)', line)\n",
    "        if ape:\n",
    "            lookup_table['APE frequency (MHz)'] = float(ape[0])\n",
    "\n",
    "        gr3d = re.findall(r'GR3D_FREQ ([0-9]*)%@?([0-9]*)?', line)\n",
    "        ParseTegrastats.parse_gr3d(lookup_table, gr3d[0]) if gr3d else None\n",
    "\n",
    "        emc = re.findall(r'EMC_FREQ ([0-9]*)%@?([0-9]*)?', line)\n",
    "        ParseTegrastats.parse_emc(lookup_table, emc[0]) if emc else None\n",
    "\n",
    "        nvenc = re.findall(r'NVENC ([0-9]*)', line)\n",
    "        if nvenc:\n",
    "            lookup_table['NVENC frequency (MHz)'] = float(nvenc[0])\n",
    "\n",
    "        mts = re.findall(r'MTS fg ([0-9]*)% bg ([0-9]*)%', line) # !!!!\n",
    "\n",
    "        temperatures = re.findall(r'([A-Za-z]*)@([0-9.]*)C', line)\n",
    "        vdds = None\n",
    "\n",
    "        if temperatures:\n",
    "            ParseTegrastats.parse_temperatures(lookup_table, temperatures)\n",
    "            substring = line[(line.rindex(temperatures[-1][1] + \"C\") + len(temperatures[-1][1] + \"C\")):]\n",
    "\n",
    "            vdds = re.findall(r'([A-Za-z0-9_]*) ([0-9]*)\\/([0-9]*)', substring)\n",
    "\n",
    "        else:\n",
    "            vdds = re.findall(r'VDD_([A-Za-z0-9_]*) ([0-9]*)\\/([0-9]*)', line)\n",
    "        ParseTegrastats.parse_vdds(lookup_table, vdds) if vdds else None\n",
    "\n",
    "        return lookup_table\n",
    "\n",
    "    @staticmethod\n",
    "    def parse_line(line):\n",
    "        return ParseTegrastats.parse_data(line)"
   ]
  },
  {
   "cell_type": "code",
   "execution_count": null,
   "metadata": {},
   "outputs": [],
   "source": [
    "# example line from tegrastats\n",
    "line = \"RAM 1903/15692MB (lfb 3251x4MB) CPU [1%@1190,1%@1190,2%@1190,0%@1190,0%@1190,0%@1190,0%@1190,0%@1190] EMC_FREQ 0% GR3D_FREQ 0% AO@32.5C GPU@32C Tboard@32C Tdiode@34.75C AUX@31.5C CPU@33.5C thermal@32.9C PMIC@100C GPU 0/0 CPU 216/216 SOC 864/864 CV 0/0 VDDRQ 144/144 SYS5V 1889/1889\""
   ]
  },
  {
   "cell_type": "code",
   "execution_count": null,
   "metadata": {},
   "outputs": [
    {
     "data": {
      "text/plain": [
       "{'Used RAM (MB)': 1903.0,\n",
       " 'Total RAM (MB)': 15692.0,\n",
       " 'Number of Free RAM Blocks': 3251.0,\n",
       " 'Size of Free RAM Blocks (MB)': 4.0,\n",
       " 'CPU Frequency (MHz)': 1190.0,\n",
       " 'CPU 0 Load (%)': '1',\n",
       " 'CPU 1 Load (%)': '1',\n",
       " 'CPU 2 Load (%)': '2',\n",
       " 'CPU 3 Load (%)': '0',\n",
       " 'CPU 4 Load (%)': '0',\n",
       " 'CPU 5 Load (%)': '0',\n",
       " 'CPU 6 Load (%)': '0',\n",
       " 'CPU 7 Load (%)': '0',\n",
       " 'Used GR3D (%)': 0.0,\n",
       " 'GR3D Frequency (MHz)': '',\n",
       " 'Used EMC (%)': 0.0,\n",
       " 'AO Temperature (C)': 32.5,\n",
       " 'GPU Temperature (C)': 32.0,\n",
       " 'Tboard Temperature (C)': 32.0,\n",
       " 'Tdiode Temperature (C)': 34.75,\n",
       " 'AUX Temperature (C)': 31.5,\n",
       " 'CPU Temperature (C)': 33.5,\n",
       " 'thermal Temperature (C)': 32.9,\n",
       " 'PMIC Temperature (C)': 100.0,\n",
       " 'Current GPU Power Consumption (mW)': 0.0,\n",
       " 'Average GPU Power Consumption (mW)': 0.0,\n",
       " 'Current CPU Power Consumption (mW)': 216.0,\n",
       " 'Average CPU Power Consumption (mW)': 216.0,\n",
       " 'Current SOC Power Consumption (mW)': 864.0,\n",
       " 'Average SOC Power Consumption (mW)': 864.0,\n",
       " 'Current CV Power Consumption (mW)': 0.0,\n",
       " 'Average CV Power Consumption (mW)': 0.0,\n",
       " 'Current VDDRQ Power Consumption (mW)': 144.0,\n",
       " 'Average VDDRQ Power Consumption (mW)': 144.0,\n",
       " 'Current SYS5V Power Consumption (mW)': 1889.0,\n",
       " 'Average SYS5V Power Consumption (mW)': 1889.0}"
      ]
     },
     "execution_count": null,
     "metadata": {},
     "output_type": "execute_result"
    }
   ],
   "source": [
    "d = ParseTegrastats.parse_line(line)\n",
    "d"
   ]
  },
  {
   "cell_type": "code",
   "execution_count": null,
   "metadata": {},
   "outputs": [],
   "source": [
    "assert type(d) is dict\n",
    "assert \"Used RAM (MB)\" in d.keys()\n",
    "assert len(d.keys())==36"
   ]
  },
  {
   "cell_type": "code",
   "execution_count": null,
   "metadata": {},
   "outputs": [
    {
     "name": "stdout",
     "output_type": "stream",
     "text": [
      "59 µs ± 1.69 µs per loop (mean ± std. dev. of 7 runs, 10000 loops each)\n"
     ]
    }
   ],
   "source": [
    "%timeit ParseTegrastats.parse_line(line)"
   ]
  },
  {
   "cell_type": "code",
   "execution_count": null,
   "metadata": {},
   "outputs": [],
   "source": [
    "from nbdev.export import *\n",
    "notebook2script()"
   ]
  }
 ],
 "metadata": {
  "kernelspec": {
   "display_name": "Python 3",
   "language": "python",
   "name": "python3"
  }
 },
 "nbformat": 4,
 "nbformat_minor": 2
}
