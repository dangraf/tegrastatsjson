{
 "cells": [
  {
   "cell_type": "code",
   "execution_count": null,
   "metadata": {},
   "outputs": [],
   "source": [
    "#hide\n",
    "from tegrastatsjson.command_grabber import *"
   ]
  },
  {
   "cell_type": "markdown",
   "metadata": {},
   "source": [
    "# TegrastatsJson\n",
    "\n",
    "Wrapper for [tegrastats](https://docs.nvidia.com/jetson/archives/l4t-archived/l4t-3231/index.html#page/Tegra%20Linux%20Driver%20Package%20Development%20Guide/AppendixTegraStats.html) to log output to file for later analytics. This makes it much more easy to look at trends and understanding the history of the system. It also adds a date-part for each sample to more easy understand when some parameters was added and removed. Tegrastats adds some parameters eg NVENC depending on if it's used or not wich is a pain when trying to parse the raw data.\n",
    "\n",
    "#### Usual output from tegrastats:\n",
    ">RAM 1903/15692MB (lfb 3251x4MB) CPU [1%@1190,1%@1190,2%@1190,0%@1190,0%@1190,0%@1190,0%@1190,0%@1190] EMC_FREQ 0% GR3D_FREQ 0% AO@32.5C GPU@32C Tboard@32C Tdiode@34.75C AUX@31.5C CPU@33.5C thermal@32.9C PMIC@100C GPU 0/0 CPU 216/216 SOC 864/864 CV 0/0 VDDRQ 144/144 SYS5V 1889/1889\n",
    "#### Json output from tegrastatsjson:\n",
    ">{\"Used RAM (MB)\": 4691.0, \"Total RAM (MB)\": 31920.0, \"Number of Free RAM Blocks\": 5828.0, \"Size of Free RAM Blocks (MB)\": 4.0, \"Used SWAP (MB)\": 0.0, \"Total SWAP (MB)\": 15960.0, \"Cached SWAP (MB)\": 0.0, \"CPU Frequency (MHz)\": 1804.0, \"CPU 0 Load (%)\": \"40\", \"CPU 1 Load (%)\": \"38\", \"CPU 2 Load (%)\": \"27\", \"CPU 3 Load (%)\": \"31\", \"CPU 4 Load (%)\": \"off\", \"CPU 5 Load (%)\": \"off\", \"CPU 6 Load (%)\": \"off\", \"CPU 7 Load (%)\": \"off\", \"Used GR3D (%)\": 0.0, \"GR3D Frequency (MHz)\": \"\", \"Used EMC (%)\": 0.0, \"AO Temperature (C)\": 39.5, \"GPU Temperature (C)\": 39.0, \"Tdiode Temperature (C)\": 43.0, \"PMIC Temperature (C)\": 100.0, \"AUX Temperature (C)\": 39.0, \"CPU Temperature (C)\": 40.5, \"thermal Temperature (C)\": 39.3, \"Tboard Temperature (C)\": 40.0, \"timestamp\": \"2021-07-05 11:17:30.334995\"}\n",
    "\n",
    "it can easily be read by eg pandas by:\n",
    "> df = pd.read_json(\"tegrastatslog.json\", lines=True)"
   ]
  },
  {
   "cell_type": "markdown",
   "metadata": {},
   "source": [
    "## Install"
   ]
  },
  {
   "cell_type": "markdown",
   "metadata": {},
   "source": [
    "there are two options for installaion, one is for manual start and stop and the other creates a service that is always started at "
   ]
  },
  {
   "cell_type": "markdown",
   "metadata": {},
   "source": [
    "# Install manual startup\n",
    "pip install git+https://github.com/dangraf/tegrastatsjson\n",
    "\n",
    "to start loggin, just type\n",
    "tegrastatsjson --log_file your_logfile.json --interval 1000"
   ]
  },
  {
   "cell_type": "markdown",
   "metadata": {},
   "source": [
    "# Install as a service\n",
    "1. git clone https://github.com/dangraf/tegrastatsjson\n",
    "1. cd tegrastatsjson\n",
    "1. sudo /.install_as_service.sh -l your_logfile.json -i 1000 -a 1 -u jetson\n",
    "\n",
    "The switches for the logging is:\n",
    "- -l : path to your log file\n",
    "- -i : Interval in ms\n",
    "- -u : user, the username that is used when logging into your jetson platform\n",
    "- -a : Add date to log_file, if set to 0, all samples will be saved in the same log-file. But if set to 1, a datepart will be added to the filename creating a separate log each time the service starts. eg **sudo /.install_as_service.sh -l your_logfile.json -a 1** will create the file **your_logfile-2021-01-01 10:59:01.json** where the date part is when the service started"
   ]
  },
  {
   "cell_type": "markdown",
   "metadata": {},
   "source": [
    "# Time spent for running the script\n",
    "I've timed the parsing part (the heavy part) on a jetson AGX Xavier and it takes around 140us to execute when running in  30W mode on 4 cores"
   ]
  }
 ],
 "metadata": {
  "kernelspec": {
   "display_name": "Python 3",
   "language": "python",
   "name": "python3"
  }
 },
 "nbformat": 4,
 "nbformat_minor": 2
}
