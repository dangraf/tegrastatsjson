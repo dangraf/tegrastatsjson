{
 "cells": [
  {
   "cell_type": "code",
   "execution_count": null,
   "metadata": {},
   "outputs": [],
   "source": [
    "# default_exp runner"
   ]
  },
  {
   "cell_type": "code",
   "execution_count": null,
   "metadata": {},
   "outputs": [],
   "source": [
    "#export\n",
    "import fire\n",
    "from pathlib import Path\n",
    "from datetime import datetime\n",
    "from pathlib import Path\n",
    "from functools import partial\n",
    "from fastcore.script import *\n",
    "from tegrastatsjson.command_grabber import *\n",
    "from tegrastatsjson.parser import *\n",
    "from nbdev.imports import *\n",
    "from nbdev.export import *"
   ]
  },
  {
   "cell_type": "markdown",
   "metadata": {},
   "source": [
    "# Tegrastats callback\n",
    "reveices the line, parses the data and adds a datetime timestamp for the sample\n",
    "note, the timestamp is when the callback is called and not when the actual sample is received from tegrastats. but this timelag might not be an issue."
   ]
  },
  {
   "cell_type": "code",
   "execution_count": null,
   "metadata": {},
   "outputs": [],
   "source": [
    "#export\n",
    "def tegrastats_callback(tegra_line, filename='/var/output/tegra.json'):\n",
    "    timestamp = str(datetime.now())\n",
    "    d = ParseTegrastats.parse_line(tegra_line)\n",
    "    d['timestamp'] = timestamp\n",
    "    filename = filename\n",
    "    with open(filename, 'a') as f:\n",
    "        json.dump(d, f)\n",
    "        f.write('\\n')"
   ]
  },
  {
   "cell_type": "code",
   "execution_count": null,
   "metadata": {},
   "outputs": [],
   "source": [
    "#export\n",
    "@call_parse\n",
    "def tegrastatsjson(log_file:Param(\"path to filename to log to\", str)=None, \n",
    "                   interval:Param(\"in ms\", int)=1000,  \n",
    "                   add_date_to_logfile:Param('adds timestamp to filename help distinguish between different runs',bool)=True):\n",
    "    p = Path(log_file)\n",
    "    if add_date_to_logfile:\n",
    "        fname = p.stem+ datetime.now().strftime(\"-%Y-%m-%d %H:%M:%S\") + p.suffix\n",
    "        p = p.parent / fname\n",
    "        \n",
    "    tegrastats_c = partial(tegrastats_callback, filename=str(p))\n",
    "    args = ['sh', '-c', f\"tegrastats --interval {interval}\"]\n",
    "    \n",
    "    task = CommandGrabber(args, tegrastats_c)\n",
    "    task.wait_until_finished()\n",
    "    return\n",
    "    "
   ]
  },
  {
   "cell_type": "code",
   "execution_count": null,
   "metadata": {},
   "outputs": [
    {
     "ename": "ModuleNotFoundError",
     "evalue": "No module named 'nbdev'",
     "output_type": "error",
     "traceback": [
      "\u001b[0;31m---------------------------------------------------------------------------\u001b[0m",
      "\u001b[0;31mModuleNotFoundError\u001b[0m                       Traceback (most recent call last)",
      "\u001b[0;32m/tmp/ipykernel_26/2557626688.py\u001b[0m in \u001b[0;36m<module>\u001b[0;34m\u001b[0m\n\u001b[0;32m----> 1\u001b[0;31m \u001b[0;32mfrom\u001b[0m \u001b[0mnbdev\u001b[0m\u001b[0;34m.\u001b[0m\u001b[0mexport\u001b[0m \u001b[0;32mimport\u001b[0m \u001b[0;34m*\u001b[0m\u001b[0;34m\u001b[0m\u001b[0;34m\u001b[0m\u001b[0m\n\u001b[0m\u001b[1;32m      2\u001b[0m \u001b[0mnotebook2script\u001b[0m\u001b[0;34m(\u001b[0m\u001b[0;34m)\u001b[0m\u001b[0;34m\u001b[0m\u001b[0;34m\u001b[0m\u001b[0m\n",
      "\u001b[0;31mModuleNotFoundError\u001b[0m: No module named 'nbdev'"
     ]
    }
   ],
   "source": [
    "from nbdev.export import *\n",
    "notebook2script()"
   ]
  },
  {
   "cell_type": "code",
   "execution_count": null,
   "metadata": {},
   "outputs": [],
   "source": []
  }
 ],
 "metadata": {
  "kernelspec": {
   "display_name": "Python 3 (ipykernel)",
   "language": "python",
   "name": "python3"
  }
 },
 "nbformat": 4,
 "nbformat_minor": 2
}
