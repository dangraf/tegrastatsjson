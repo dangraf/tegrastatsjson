{
 "cells": [
  {
   "cell_type": "code",
   "execution_count": null,
   "metadata": {},
   "outputs": [],
   "source": [
    "# default_exp runner"
   ]
  },
  {
   "cell_type": "code",
   "execution_count": null,
   "metadata": {},
   "outputs": [],
   "source": [
    "import fire\n",
    "from pathlib import Path\n",
    "from datetime import datetime\n",
    "from pathlib import Path\n",
    "from functools import partial\n",
    "from tegrastatsjson.command_grabber import *\n",
    "from tegrastatsjson.parser import *"
   ]
  },
  {
   "cell_type": "markdown",
   "metadata": {},
   "source": [
    "# Tegrastats callback\n",
    "reveices the line, parses the data and adds a datetime timestamp for the sample\n",
    "note, the timestamp is when the callback is called and not when the actual sample is received from tegrastats. but this timelag might not be an issue."
   ]
  },
  {
   "cell_type": "code",
   "execution_count": null,
   "metadata": {},
   "outputs": [],
   "source": [
    "def tegrastats_callback(tegra_line, filename='/var/output/tegra.json'):\n",
    "    timestamp = str(datetime.now())\n",
    "    d = ParseTegrastats.parse_line(line)\n",
    "    d['timestamp'] = timestamp\n",
    "    filename = filename\n",
    "    with open(filename, 'a') as f:\n",
    "        json.dump(d, f)\n",
    "        f.write('\\n')"
   ]
  },
  {
   "cell_type": "code",
   "execution_count": null,
   "metadata": {},
   "outputs": [],
   "source": [
    "\n",
    "def tegrastatsjson(log_file, interval=1000,  add_date_to_logfile=True):\n",
    "    \"\"\" interval in ms, logfile, logfile, path to the file to be logged. \n",
    "    Parameters\n",
    "        interval: in ms, (same as for tegrastats)\n",
    "        logfile: path to filename to log to (same as for tegrastats)\n",
    "        add_date_to_logfile: adds a timestamp to the log file to easier distinguish between different runs on the jetson\n",
    "        \n",
    "    \"\"\"\n",
    "    p = Path(log_file)\n",
    "    if add_date_to_logfile:\n",
    "        fname = p.stem+ datetime.now().strftime(\"-%Y-%m-%d %H:%M:%S\") + p.suffix\n",
    "        p = p.parent / fname\n",
    "        \n",
    "    tegrastats_c = partial(tegrastats_callback, filename=str(p))\n",
    "    args = ['sh', '-c', f\"tegrastats --interval {interval}\"]\n",
    "    \n",
    "    task = CommandGrabber(args, tegrastats_c)\n",
    "    task.wait_until_finished()\n",
    "    return\n",
    "    "
   ]
  },
  {
   "cell_type": "code",
   "execution_count": null,
   "metadata": {},
   "outputs": [],
   "source": []
  }
 ],
 "metadata": {
  "kernelspec": {
   "display_name": "Python 3",
   "language": "python",
   "name": "python3"
  }
 },
 "nbformat": 4,
 "nbformat_minor": 2
}
