{
 "cells": [
  {
   "cell_type": "code",
   "execution_count": null,
   "metadata": {},
   "outputs": [],
   "source": [
    "# default_exp runner"
   ]
  },
  {
   "cell_type": "code",
   "execution_count": null,
   "metadata": {},
   "outputs": [],
   "source": [
    "#export\n",
    "import fire\n",
    "from pathlib import Path\n",
    "from datetime import datetime\n",
    "from pathlib import Path\n",
    "from functools import partial\n",
    "from fastcore.script import *\n",
    "from tegrastatsjson.command_grabber import *\n",
    "from tegrastatsjson.parser import *\n",
    "from nbdev.imports import *\n",
    "from nbdev.export import *"
   ]
  },
  {
   "cell_type": "markdown",
   "metadata": {},
   "source": [
    "# Tegrastats callback\n",
    "reveices the line, parses the data and adds a datetime timestamp for the sample\n",
    "note, the timestamp is when the callback is called and not when the actual sample is received from tegrastats. but this timelag might not be an issue."
   ]
  },
  {
   "cell_type": "code",
   "execution_count": null,
   "metadata": {},
   "outputs": [],
   "source": [
    "#export\n",
    "def tegrastats_callback(tegra_line, filename='/var/output/tegra.json'):\n",
    "    timestamp = str(datetime.now())\n",
    "    d = ParseTegrastats.parse_line(line)\n",
    "    d['timestamp'] = timestamp\n",
    "    filename = filename\n",
    "    with open(filename, 'a') as f:\n",
    "        json.dump(d, f)\n",
    "        f.write('\\n')"
   ]
  },
  {
   "cell_type": "code",
   "execution_count": null,
   "metadata": {},
   "outputs": [],
   "source": [
    "#export\n",
    "@call_parse\n",
    "def tegrastatsjson(log_file:Param(\"path to filename to log to\", str)=None, \n",
    "                   interval:Param(\"in ms\", int)=1000,  \n",
    "                   add_date_to_logfile:Param('adds timestamp to filename help distinguish between different runs',bool)=True):\n",
    "    p = Path(log_file)\n",
    "    if add_date_to_logfile:\n",
    "        fname = p.stem+ datetime.now().strftime(\"-%Y-%m-%d %H:%M:%S\") + p.suffix\n",
    "        p = p.parent / fname\n",
    "        \n",
    "    tegrastats_c = partial(tegrastats_callback, filename=str(p))\n",
    "    args = ['sh', '-c', f\"tegrastats --interval {interval}\"]\n",
    "    \n",
    "    task = CommandGrabber(args, tegrastats_c)\n",
    "    task.wait_until_finished()\n",
    "    return\n",
    "    "
   ]
  },
  {
   "cell_type": "code",
   "execution_count": null,
   "metadata": {},
   "outputs": [
    {
     "name": "stdout",
     "output_type": "stream",
     "text": [
      "Converted 00_command_grabber.ipynb.\n",
      "Converted 01_parser.ipynb.\n",
      "Converted 02_runner.ipynb.\n",
      "Converted index.ipynb.\n"
     ]
    }
   ],
   "source": [
    "from nbdev.export import *\n",
    "notebook2script()"
   ]
  },
  {
   "cell_type": "code",
   "execution_count": null,
   "metadata": {},
   "outputs": [],
   "source": []
  }
 ],
 "metadata": {
  "kernelspec": {
   "display_name": "Python 3",
   "language": "python",
   "name": "python3"
  }
 },
 "nbformat": 4,
 "nbformat_minor": 2
}
